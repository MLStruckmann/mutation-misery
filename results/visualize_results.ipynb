{
 "cells": [
  {
   "cell_type": "code",
   "execution_count": null,
   "metadata": {},
   "outputs": [],
   "source": [
    "import numpy as np\n",
    "import os\n",
    "import plotly.graph_objects as go"
   ]
  },
  {
   "cell_type": "code",
   "execution_count": null,
   "metadata": {},
   "outputs": [],
   "source": [
    "results_folder = 'experiment2'"
   ]
  },
  {
   "cell_type": "code",
   "execution_count": null,
   "metadata": {},
   "outputs": [],
   "source": [
    "fig = go.Figure()\n",
    "\n",
    "def add_trace(data,trace_counter):\n",
    "    fig.add_trace(go.Scatter3d(\n",
    "        x=data[:,1],\n",
    "        y=data[:,2],\n",
    "        z=data[:,0],\n",
    "        name='Step '+str(trace_counter)+' - '+str(len(data)),\n",
    "        mode='markers',\n",
    "        marker=dict(size=6,\n",
    "                    opacity=0.8)))"
   ]
  },
  {
   "cell_type": "code",
   "execution_count": null,
   "metadata": {},
   "outputs": [],
   "source": [
    "trace_counter = 0\n",
    "for file in os.listdir(results_folder):\n",
    "    if file.endswith(\".csv\"):\n",
    "        trace_counter += 1\n",
    "        data = np.genfromtxt(results_folder+'/'+file, delimiter=';')\n",
    "        add_trace(data,trace_counter)"
   ]
  },
  {
   "cell_type": "code",
   "execution_count": null,
   "metadata": {},
   "outputs": [],
   "source": [
    "fig.show()"
   ]
  }
 ],
 "metadata": {
  "kernelspec": {
   "display_name": "Python 3",
   "language": "python",
   "name": "python3"
  },
  "language_info": {
   "codemirror_mode": {
    "name": "ipython",
    "version": 3
   },
   "file_extension": ".py",
   "mimetype": "text/x-python",
   "name": "python",
   "nbconvert_exporter": "python",
   "pygments_lexer": "ipython3",
   "version": "3.7.7"
  }
 },
 "nbformat": 4,
 "nbformat_minor": 4
}
